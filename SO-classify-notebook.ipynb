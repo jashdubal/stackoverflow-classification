{
 "cells": [
  {
   "cell_type": "code",
   "execution_count": 1,
   "metadata": {},
   "outputs": [
    {
     "name": "stdout",
     "output_type": "stream",
     "text": [
      "hello torch!\n"
     ]
    }
   ],
   "source": [
    "import torch\n",
    "print('hello torch!')"
   ]
  }
 ],
 "metadata": {
  "kernelspec": {
   "display_name": "base",
   "language": "python",
   "name": "python3"
  },
  "language_info": {
   "codemirror_mode": {
    "name": "ipython",
    "version": 3
   },
   "file_extension": ".py",
   "mimetype": "text/x-python",
   "name": "python",
   "nbconvert_exporter": "python",
   "pygments_lexer": "ipython3",
   "version": "3.9.13"
  },
  "orig_nbformat": 4,
  "vscode": {
   "interpreter": {
    "hash": "b9992f0915ac1c0371431034fe518ae802434a0f09f5f0bda48ab0a5bf0e52c9"
   }
  }
 },
 "nbformat": 4,
 "nbformat_minor": 2
}
